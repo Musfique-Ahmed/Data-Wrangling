{
 "cells": [
  {
   "cell_type": "code",
   "execution_count": 2,
   "id": "1a49ecb1",
   "metadata": {},
   "outputs": [
    {
     "name": "stdout",
     "output_type": "stream",
     "text": [
      "Title of the page: Example Domain\n",
      "<!DOCTYPE html>\n",
      "<html>\n",
      "<head>\n",
      "<title>Example Domain</title>\n",
      "<meta charset=\"utf-8\"/>\n",
      "<meta content=\"text/html; charset=utf-8\" http-equiv=\"Content-type\"/>\n",
      "<meta content=\"width=device-width, initial-scale=1\" name=\"viewport\"/>\n",
      "<style type=\"text/css\">\n",
      "    body {\n",
      "        background-color: #f0f0f2;\n",
      "        margin: 0;\n",
      "        padding: 0;\n",
      "        font-family: -apple-system, system-ui, BlinkMacSystemFont, \"Segoe UI\", \"Open Sans\", \"Helvetica Neue\", Helvetica, Arial, sans-serif;\n",
      "        \n",
      "    }\n",
      "    div {\n",
      "        width: 600px;\n",
      "        margin: 5em auto;\n",
      "        padding: 2em;\n",
      "        background-color: #fdfdff;\n",
      "        border-radius: 0.5em;\n",
      "        box-shadow: 2px 3px 7px 2px rgba(0,0,0,0.02);\n",
      "    }\n",
      "    a:link, a:visited {\n",
      "        color: #38488f;\n",
      "        text-decoration: none;\n",
      "    }\n",
      "    @media (max-width: 700px) {\n",
      "        div {\n",
      "            margin: 0 auto;\n",
      "            width: auto;\n",
      "        }\n",
      "    }\n",
      "    </style>\n",
      "</head>\n",
      "<body>\n",
      "<div>\n",
      "<h1>Example Domain</h1>\n",
      "<p>This domain is for use in illustrative examples in documents. You may use this\n",
      "    domain in literature without prior coordination or asking for permission.</p>\n",
      "<p><a href=\"https://www.iana.org/domains/example\">More information...</a></p>\n",
      "</div>\n",
      "</body>\n",
      "</html>\n",
      "\n"
     ]
    }
   ],
   "source": [
    "from bs4 import BeautifulSoup\n",
    "import requests\n",
    "\n",
    "url = \"https://example.com/\"\n",
    "response = requests.get(url)\n",
    "\n",
    "soup = BeautifulSoup(response.text, \"html\")\n",
    "\n",
    "title = soup.title.string\n",
    "print(f\"Title of the page: {title}\")\n",
    "\n",
    "print(soup)"
   ]
  },
  {
   "cell_type": "code",
   "execution_count": 8,
   "id": "de2902b8",
   "metadata": {},
   "outputs": [
    {
     "name": "stdout",
     "output_type": "stream",
     "text": [
      "{'coord': {'lon': 90, 'lat': 24}, 'weather': [{'id': 803, 'main': 'Clouds', 'description': 'broken clouds', 'icon': '04n'}], 'base': 'stations', 'main': {'temp': 297.26, 'feels_like': 297.82, 'temp_min': 297.26, 'temp_max': 297.26, 'pressure': 1007, 'humidity': 80, 'sea_level': 1007, 'grnd_level': 1006}, 'visibility': 10000, 'wind': {'speed': 3.24, 'deg': 105, 'gust': 5.61}, 'clouds': {'all': 71}, 'dt': 1744992019, 'sys': {'country': 'BD', 'sunrise': 1744932957, 'sunset': 1744978942}, 'timezone': 21600, 'id': 1210997, 'name': 'Bangladesh', 'cod': 200}\n"
     ]
    }
   ],
   "source": [
    "import requests\n",
    "\n",
    "url = \"https://api.openweathermap.org/data/2.5/weather\"\n",
    "prams = {\"q\": \"Bangladesh\", \"appid\": \"c761da5db937665828689710ce944a02\"}\n",
    "\n",
    "response = requests.get(url, params=prams)\n",
    "\n",
    "data = response.json()\n",
    "\n",
    "print(data)\n"
   ]
  },
  {
   "cell_type": "code",
   "execution_count": 5,
   "id": "106d31e2",
   "metadata": {},
   "outputs": [
    {
     "name": "stdout",
     "output_type": "stream",
     "text": [
      "Status Code: 401\n",
      "Error: 401 Client Error: Unauthorized for url: https://api.openweathermap.org/data/2.5/weather?q=Bangladesh&appid=c761da5db937665828689710ce944\n"
     ]
    }
   ],
   "source": [
    "import requests\n",
    "\n",
    "url = \"https://api.openweathermap.org/data/2.5/weather\"\n",
    "prams = {\"q\": \"Bangladesh\", \"appid\": \"c761da5db937665828689710ce944\"}\n",
    "\n",
    "try:\n",
    "    response = requests.get(url, params=prams)\n",
    "    print(\"Status Code:\", response.status_code)\n",
    "\n",
    "    response.raise_for_status()\n",
    "    data = response.json()\n",
    "\n",
    "    print(data)\n",
    "\n",
    "except requests.exceptions.RequestException as e:\n",
    "    print(f\"Error: {e}\")"
   ]
  },
  {
   "cell_type": "code",
   "execution_count": 15,
   "id": "eba12b91",
   "metadata": {},
   "outputs": [
    {
     "name": "stdout",
     "output_type": "stream",
     "text": [
      "{'coord': {'lon': 10.5, 'lat': 51.5}, 'weather': [{'id': 804, 'main': 'Clouds', 'description': 'overcast clouds', 'icon': '04d'}], 'base': 'stations', 'main': {'temp': 281.3, 'feels_like': 278.49, 'temp_min': 281.3, 'temp_max': 281.3, 'pressure': 1012, 'humidity': 92, 'sea_level': 1012, 'grnd_level': 977}, 'visibility': 10000, 'wind': {'speed': 4.84, 'deg': 284, 'gust': 7.29}, 'clouds': {'all': 100}, 'dt': 1744991555, 'sys': {'country': 'DE', 'sunrise': 1744949734, 'sunset': 1745000320}, 'timezone': 7200, 'id': 2921044, 'name': 'Germany', 'cod': 200}\n"
     ]
    },
    {
     "name": "stderr",
     "output_type": "stream",
     "text": [
      "<>:14: SyntaxWarning: invalid escape sequence '\\M'\n",
      "<>:14: SyntaxWarning: invalid escape sequence '\\M'\n",
      "C:\\Users\\mushf\\AppData\\Local\\Temp\\ipykernel_13872\\368444754.py:14: SyntaxWarning: invalid escape sequence '\\M'\n",
      "  df.to_csv(\"C:\\Musfique's Folder\\Python\\Data-Wrangling\\Mid\\weather_data.csv\")\n"
     ]
    }
   ],
   "source": [
    "import requests\n",
    "import pandas as pd\n",
    "\n",
    "url = \"https://api.openweathermap.org/data/2.5/weather\"\n",
    "prams = {\"q\": \"Germany\", \"appid\": \"c761da5db937665828689710ce944a02\"}\n",
    "\n",
    "response = requests.get(url, params=prams)\n",
    "\n",
    "data = response.json()\n",
    "print(data)\n",
    "\n",
    "# print(data)\n",
    "df = pd.DataFrame(data[\"weather\"])\n",
    "df.to_csv(\"C:\\Musfique's Folder\\Python\\Data-Wrangling\\Mid\\weather_data.csv\")\n"
   ]
  },
  {
   "cell_type": "code",
   "execution_count": 8,
   "id": "fa39cf1e",
   "metadata": {},
   "outputs": [
    {
     "name": "stdout",
     "output_type": "stream",
     "text": [
      "<Response [200]>\n",
      "<!doctype html>\n",
      "<html>\n",
      "<head>\n",
      "    <title>Example Domain</title>\n",
      "\n",
      "    <meta charset=\"utf-8\" />\n",
      "    <meta http-equiv=\"Content-type\" content=\"text/html; charset=utf-8\" />\n",
      "    <meta name=\"viewport\" content=\"width=device-width, initial-scale=1\" />\n",
      "    <style type=\"text/css\">\n",
      "    body {\n",
      "        background-color: #f0f0f2;\n",
      "        margin: 0;\n",
      "        padding: 0;\n",
      "        font-family: -apple-system, system-ui, BlinkMacSystemFont, \"Segoe UI\", \"Open Sans\", \"Helvetica Neue\", Helvetica, Arial, sans-serif;\n",
      "        \n",
      "    }\n",
      "    div {\n",
      "        width: 600px;\n",
      "        margin: 5em auto;\n",
      "        padding: 2em;\n",
      "        background-color: #fdfdff;\n",
      "        border-radius: 0.5em;\n",
      "        box-shadow: 2px 3px 7px 2px rgba(0,0,0,0.02);\n",
      "    }\n",
      "    a:link, a:visited {\n",
      "        color: #38488f;\n",
      "        text-decoration: none;\n",
      "    }\n",
      "    @media (max-width: 700px) {\n",
      "        div {\n",
      "            margin: 0 auto;\n",
      "            width: auto;\n",
      "        }\n",
      "    }\n",
      "    </style>    \n",
      "</head>\n",
      "\n",
      "<body>\n",
      "<div>\n",
      "    <h1>Example Domain</h1>\n",
      "    <p>This domain is for use in illustrative examples in documents. You may use this\n",
      "    domain in literature without prior coordination or asking for permission.</p>\n",
      "    <p><a href=\"https://www.iana.org/domains/example\">More information...</a></p>\n",
      "</div>\n",
      "</body>\n",
      "</html>\n",
      "\n"
     ]
    }
   ],
   "source": [
    "from bs4 import BeautifulSoup\n",
    "import requests\n",
    "\n",
    "url = \"https://example.com\"\n",
    "response = requests.get(url)\n",
    "\n",
    "soup = BeautifulSoup(response.text, \"html.parser\")\n",
    "print(response) # <Response [200]>\n",
    "print(response.text) # shows the fron end HTML code\n",
    "# print(soup)"
   ]
  },
  {
   "cell_type": "code",
   "execution_count": 9,
   "id": "e36c6fb1",
   "metadata": {},
   "outputs": [
    {
     "name": "stdout",
     "output_type": "stream",
     "text": [
      "<Response [200]>\n",
      "<!DOCTYPE html>\n",
      "\n",
      "<html>\n",
      "<head>\n",
      "<title>Example Domain</title>\n",
      "<meta charset=\"utf-8\"/>\n",
      "<meta content=\"text/html; charset=utf-8\" http-equiv=\"Content-type\"/>\n",
      "<meta content=\"width=device-width, initial-scale=1\" name=\"viewport\"/>\n",
      "<style type=\"text/css\">\n",
      "    body {\n",
      "        background-color: #f0f0f2;\n",
      "        margin: 0;\n",
      "        padding: 0;\n",
      "        font-family: -apple-system, system-ui, BlinkMacSystemFont, \"Segoe UI\", \"Open Sans\", \"Helvetica Neue\", Helvetica, Arial, sans-serif;\n",
      "        \n",
      "    }\n",
      "    div {\n",
      "        width: 600px;\n",
      "        margin: 5em auto;\n",
      "        padding: 2em;\n",
      "        background-color: #fdfdff;\n",
      "        border-radius: 0.5em;\n",
      "        box-shadow: 2px 3px 7px 2px rgba(0,0,0,0.02);\n",
      "    }\n",
      "    a:link, a:visited {\n",
      "        color: #38488f;\n",
      "        text-decoration: none;\n",
      "    }\n",
      "    @media (max-width: 700px) {\n",
      "        div {\n",
      "            margin: 0 auto;\n",
      "            width: auto;\n",
      "        }\n",
      "    }\n",
      "    </style>\n",
      "</head>\n",
      "<body>\n",
      "<div>\n",
      "<h1>Example Domain</h1>\n",
      "<p>This domain is for use in illustrative examples in documents. You may use this\n",
      "    domain in literature without prior coordination or asking for permission.</p>\n",
      "<p><a href=\"https://www.iana.org/domains/example\">More information...</a></p>\n",
      "</div>\n",
      "</body>\n",
      "</html>\n",
      "\n"
     ]
    }
   ],
   "source": [
    "from bs4 import BeautifulSoup\n",
    "import requests\n",
    "\n",
    "url = \"https://example.com\"\n",
    "response = requests.get(url) # <Response [200]> this means success\n",
    "\n",
    "soup = BeautifulSoup(response.text, \"html.parser\") # response.text er html code ke beautify kore dibe\n",
    "print(response)\n",
    "# print(response.text)\n",
    "print(soup)"
   ]
  },
  {
   "cell_type": "code",
   "execution_count": 13,
   "id": "bdf3ec40",
   "metadata": {},
   "outputs": [
    {
     "name": "stdout",
     "output_type": "stream",
     "text": [
      "Title of the page: Example Domain\n"
     ]
    }
   ],
   "source": [
    "from bs4 import BeautifulSoup\n",
    "import requests\n",
    "\n",
    "url = \"https://example.com\"\n",
    "response = requests.get(url) # <Response [200]> this means success\n",
    "\n",
    "soup = BeautifulSoup(response.text, \"html.parser\") # response.text er html code ke beautify kore dibe\n",
    "\n",
    "title = soup.title.text # find the title tag and extracts the text from there\n",
    "print(f\"Title of the page: {title}\")"
   ]
  },
  {
   "cell_type": "code",
   "execution_count": 14,
   "id": "b6a9ee4e",
   "metadata": {},
   "outputs": [
    {
     "name": "stdout",
     "output_type": "stream",
     "text": [
      "<!doctype html>\n",
      "<html lang=\"en\">\n",
      "   <head>\n",
      "      <meta charset=\"utf-8\">\n",
      "      <meta name=\"viewport\" content=\"width=device-width, initial-scale=1, shrink-to-fit=no\">\n",
      "      <link rel=\"stylesheet\" href=\"https://stackpath.bootstrapcdn.com/bootstrap/4.5.2/css/bootstrap.min.css\" integrity=\"sha384-JcKb8q3iqJ61gNV9KGb8thSsNjpSL0n8PARn9HuZOnIxN0hoP+VmmDGMN5t9UJ0Z\" crossorigin=\"anonymous\">\n",
      "      <title>My Courses</title>\n",
      "   </head>\n",
      "   <body>\n",
      "      <h1>Hello, Start Learning!</h1>\n",
      "      <div class=\"card\" id=\"card-python-for-beginners\">\n",
      "         <div class=\"card-header\">\n",
      "            Python\n",
      "         </div>\n",
      "         <div class=\"card-body\">\n",
      "            <h5 class=\"card-title\">Python for beginners</h5>\n",
      "            <p class=\"card-text\">If you are new to Python, this is the course that you should buy!</p>\n",
      "            <a href=\"#\" class=\"btn btn-primary\">Start for 20$</a>\n",
      "         </div>\n",
      "      </div>\n",
      "      <div class=\"card\" id=\"card-python-web-development\">\n",
      "         <div class=\"card-header\">\n",
      "            Python\n",
      "         </div>\n",
      "         <div class=\"card-body\">\n",
      "            <h5 class=\"card-title\">Python Web Development</h5>\n",
      "            <p class=\"card-text\">If you feel confident enough with python, you are ready to learn how to create your own website!</p>\n",
      "            <a href=\"#\" class=\"btn btn-primary\">Start for 50$</a>\n",
      "         </div>\n",
      "      </div>\n",
      "      <div class=\"card\" id=\"card-python-machine-learning\">\n",
      "         <div class=\"card-header\">\n",
      "            Python\n",
      "         </div>\n",
      "         <div class=\"card-body\">\n",
      "            <h5 class=\"card-title\">Python Machine Learning</h5>\n",
      "            <p class=\"card-text\">Become a Python Machine Learning master!</p>\n",
      "            <a href=\"#\" class=\"btn btn-primary\">Start for 100$</a>\n",
      "         </div>\n",
      "      </div>\n",
      "   </body>\n",
      "</html>\n",
      "\n",
      "\n"
     ]
    }
   ],
   "source": [
    "html_file = open(\"C:/Musfique's Folder/Python/Data-Wrangling/Mid/home.html\", 'r')\n",
    "content = html_file.read()\n",
    "print(content)"
   ]
  },
  {
   "cell_type": "code",
   "execution_count": 15,
   "id": "ce839798",
   "metadata": {},
   "outputs": [
    {
     "name": "stdout",
     "output_type": "stream",
     "text": [
      "<!DOCTYPE html>\n",
      "<html lang=\"en\">\n",
      " <head>\n",
      "  <meta charset=\"utf-8\"/>\n",
      "  <meta content=\"width=device-width, initial-scale=1, shrink-to-fit=no\" name=\"viewport\"/>\n",
      "  <link crossorigin=\"anonymous\" href=\"https://stackpath.bootstrapcdn.com/bootstrap/4.5.2/css/bootstrap.min.css\" integrity=\"sha384-JcKb8q3iqJ61gNV9KGb8thSsNjpSL0n8PARn9HuZOnIxN0hoP+VmmDGMN5t9UJ0Z\" rel=\"stylesheet\"/>\n",
      "  <title>\n",
      "   My Courses\n",
      "  </title>\n",
      " </head>\n",
      " <body>\n",
      "  <h1>\n",
      "   Hello, Start Learning!\n",
      "  </h1>\n",
      "  <div class=\"card\" id=\"card-python-for-beginners\">\n",
      "   <div class=\"card-header\">\n",
      "    Python\n",
      "   </div>\n",
      "   <div class=\"card-body\">\n",
      "    <h5 class=\"card-title\">\n",
      "     Python for beginners\n",
      "    </h5>\n",
      "    <p class=\"card-text\">\n",
      "     If you are new to Python, this is the course that you should buy!\n",
      "    </p>\n",
      "    <a class=\"btn btn-primary\" href=\"#\">\n",
      "     Start for 20$\n",
      "    </a>\n",
      "   </div>\n",
      "  </div>\n",
      "  <div class=\"card\" id=\"card-python-web-development\">\n",
      "   <div class=\"card-header\">\n",
      "    Python\n",
      "   </div>\n",
      "   <div class=\"card-body\">\n",
      "    <h5 class=\"card-title\">\n",
      "     Python Web Development\n",
      "    </h5>\n",
      "    <p class=\"card-text\">\n",
      "     If you feel confident enough with python, you are ready to learn how to create your own website!\n",
      "    </p>\n",
      "    <a class=\"btn btn-primary\" href=\"#\">\n",
      "     Start for 50$\n",
      "    </a>\n",
      "   </div>\n",
      "  </div>\n",
      "  <div class=\"card\" id=\"card-python-machine-learning\">\n",
      "   <div class=\"card-header\">\n",
      "    Python\n",
      "   </div>\n",
      "   <div class=\"card-body\">\n",
      "    <h5 class=\"card-title\">\n",
      "     Python Machine Learning\n",
      "    </h5>\n",
      "    <p class=\"card-text\">\n",
      "     Become a Python Machine Learning master!\n",
      "    </p>\n",
      "    <a class=\"btn btn-primary\" href=\"#\">\n",
      "     Start for 100$\n",
      "    </a>\n",
      "   </div>\n",
      "  </div>\n",
      " </body>\n",
      "</html>\n",
      "\n"
     ]
    }
   ],
   "source": [
    "from bs4 import BeautifulSoup\n",
    "\n",
    "html_file = open('home.html', 'r')\n",
    "content = html_file.read()\n",
    "soup = BeautifulSoup(content, 'lxml')\n",
    "print(soup.prettify())"
   ]
  },
  {
   "cell_type": "code",
   "execution_count": 22,
   "id": "3137df2e",
   "metadata": {},
   "outputs": [
    {
     "name": "stdout",
     "output_type": "stream",
     "text": [
      "If you are new to Python, this is the course that you should buy!\n"
     ]
    }
   ],
   "source": [
    "from bs4 import BeautifulSoup\n",
    "import requests\n",
    "\n",
    "html_file = open('home.html', 'r')\n",
    "content = html_file.read()\n",
    "# print(content)\n",
    "\n",
    "soup = BeautifulSoup(content, \"lxml\")\n",
    "# print(soup)\n",
    "\n",
    "tags = soup.find(\"p\") # gets the 1st p tag from start to end and stores it the variable\n",
    "\n",
    "print(tags.text) # only print the text inside it"
   ]
  },
  {
   "cell_type": "code",
   "execution_count": 29,
   "id": "84e697ff",
   "metadata": {},
   "outputs": [
    {
     "name": "stdout",
     "output_type": "stream",
     "text": [
      "If you are new to Python, this is the course that you should buy!\n",
      "If you feel confident enough with python, you are ready to learn how to create your own website!\n",
      "Become a Python Machine Learning master!\n"
     ]
    }
   ],
   "source": [
    "from bs4 import BeautifulSoup\n",
    "import requests\n",
    "\n",
    "html_file = open('home.html', 'r')\n",
    "content = html_file.read()\n",
    "# print(content)\n",
    "\n",
    "soup = BeautifulSoup(content, \"lxml\")\n",
    "# print(soup)\n",
    "\n",
    "tags = soup.find_all(\"p\") # stores all p tags from start to end in a list and stores it in the variable\n",
    "#print(tags) # [<p class=\"card-text\">If you are new to Python, this is the course that you should buy!</p>, <p class=\"card-text\">If you feel confident enough with python, you are ready to learn how to create your own website!</p>, <p class=\"card-text\">Become a Python Machine Learning master!</p>]\n",
    "\n",
    "for tag in tags: # makes a loop to iterrate over all the p tags and print them separately\n",
    "    print(tag.text) "
   ]
  },
  {
   "cell_type": "code",
   "execution_count": 31,
   "id": "e1d7e2f4",
   "metadata": {},
   "outputs": [
    {
     "name": "stdout",
     "output_type": "stream",
     "text": [
      "Start for 20$\n",
      "Start for 50$\n",
      "Start for 100$\n"
     ]
    }
   ],
   "source": [
    "from bs4 import BeautifulSoup\n",
    "\n",
    "\n",
    "html_file = open('home.html', 'r')\n",
    "content = html_file.read()\n",
    "# print(content)\n",
    "\n",
    "soup = BeautifulSoup(content, \"lxml\")\n",
    "# print(soup)\n",
    "\n",
    "tags = soup.find_all(\"a\")\n",
    "\n",
    "for tag in tags: \n",
    "    print(tag.text) "
   ]
  },
  {
   "cell_type": "code",
   "execution_count": 75,
   "id": "cbd509e2",
   "metadata": {},
   "outputs": [
    {
     "name": "stdout",
     "output_type": "stream",
     "text": [
      "{'Courses': ['Python for beginners', 'Python Web Development', 'Python Machine Learning'], 'Prices': [20, 50, 100]}\n"
     ]
    }
   ],
   "source": [
    "from bs4 import BeautifulSoup\n",
    "\n",
    "html_file = open(\"home.html\", \"r\")\n",
    "content = html_file.read()\n",
    "\n",
    "soup= BeautifulSoup(content, \"lxml\")\n",
    "\n",
    "data = {\n",
    "    \"Courses\": [],\n",
    "    \"Prices\":[]\n",
    "        }\n",
    "\n",
    "courses = soup.find_all(\"h5\")\n",
    "prices = soup.find_all(\"a\")\n",
    "\n",
    "# print(courses,prices)\n",
    "\n",
    "for i in range(len(courses)): #0,1,2 len=3\n",
    "    data[\"Courses\"].append(courses[i].text)\n",
    "    personal = int(prices[i].text.strip(\"Start for \").rstrip(\"$\"))\n",
    "    # personal = int(personal.rstrip(\"$\"))\n",
    "    data[\"Prices\"].append(personal)\n",
    "\n",
    "print(data)"
   ]
  },
  {
   "cell_type": "markdown",
   "id": "0b75110d",
   "metadata": {},
   "source": [
    "anas:"
   ]
  },
  {
   "cell_type": "code",
   "execution_count": 48,
   "id": "25125945",
   "metadata": {},
   "outputs": [
    {
     "name": "stdout",
     "output_type": "stream",
     "text": [
      "{'Python for beginners': 100, 'Python Web Development': 100, 'Python Machine Learning': 100}\n"
     ]
    }
   ],
   "source": [
    "from bs4 import BeautifulSoup\n",
    "\n",
    "html_file = open(\"home.html\", \"r\")\n",
    "content = html_file.read()\n",
    "\n",
    "soup= BeautifulSoup(content, \"lxml\")\n",
    "\n",
    "prices = soup.find_all(\"a\")\n",
    "courses = soup.find_all(\"h5\")\n",
    "\n",
    "new_dict = {}\n",
    "\n",
    "for price in prices:\n",
    "    for course in courses:\n",
    "        new_dict[course.text] = int(price.text.strip(\"Start for \").rstrip(\"$\"))\n",
    "\n",
    "print(new_dict)"
   ]
  },
  {
   "cell_type": "markdown",
   "id": "b5317138",
   "metadata": {},
   "source": [
    "Jammeeee"
   ]
  },
  {
   "cell_type": "code",
   "execution_count": 37,
   "id": "b5d43186",
   "metadata": {},
   "outputs": [
    {
     "name": "stdout",
     "output_type": "stream",
     "text": [
      "{'Python for beginners': 'Start for 100$', 'Python Web Development': 'Start for 100$', 'Python Machine Learning': 'Start for 100$'}\n"
     ]
    }
   ],
   "source": [
    "from bs4 import BeautifulSoup\n",
    "\n",
    "html_file = open(\"home.html\", \"r\")\n",
    "content = html_file.read()\n",
    "\n",
    "soup= BeautifulSoup(content, \"lxml\")\n",
    "\n",
    "prices = soup.find_all(\"a\")\n",
    "courses = soup.find_all(\"h5\")\n",
    "\n",
    "new_dict = {}\n",
    "\n",
    "# for k,v in new_dict.items():\n",
    "#     new_dict[courses] = prices.text\n",
    "for price in prices:\n",
    "    for course in courses:\n",
    "        new_dict[course.text] = price.text\n",
    "\n",
    "print(new_dict)"
   ]
  },
  {
   "cell_type": "markdown",
   "id": "f573ff6d",
   "metadata": {},
   "source": [
    "Toxim"
   ]
  },
  {
   "cell_type": "code",
   "execution_count": 38,
   "id": "10ff701b",
   "metadata": {},
   "outputs": [
    {
     "name": "stdout",
     "output_type": "stream",
     "text": [
      "{'Python for beginners': 'Start for 20$', 'Python Web Development': 'Start for 50$', 'Python Machine Learning': 'Start for 100$'}\n"
     ]
    }
   ],
   "source": [
    "from bs4 import BeautifulSoup\n",
    "html_file = open('home.html','r')\n",
    "content = html_file.read()\n",
    "\n",
    "soup = BeautifulSoup(content, 'lxml')\n",
    "\n",
    "courses_dict={}\n",
    "\n",
    "courses = soup.find_all('h5')\n",
    "prices = soup.find_all('a')\n",
    "for i in range(len(courses)):\n",
    "    courses_dict[courses[i].text]=prices[i].text\n",
    "print(courses_dict)\n"
   ]
  },
  {
   "cell_type": "code",
   "execution_count": 53,
   "id": "f763193f",
   "metadata": {},
   "outputs": [
    {
     "name": "stdout",
     "output_type": "stream",
     "text": [
      "Python for beginners: Start for 20$\n",
      "Python Web Development: Start for 50$\n",
      "Python Machine Learning: Start for 100$\n"
     ]
    }
   ],
   "source": [
    "from bs4 import BeautifulSoup\n",
    "\n",
    "html_file = open(\"home.html\", \"r\")\n",
    "content = html_file.read()\n",
    "\n",
    "soup= BeautifulSoup(content, \"lxml\")\n",
    "\n",
    "cards = soup.find_all(\"div\", class_=\"card-body\")\n",
    "\n",
    "# print(cards)\n",
    "\n",
    "for card in cards:\n",
    "    print(card.h5.text, end=\": \")\n",
    "    print(card.a.text)"
   ]
  },
  {
   "cell_type": "code",
   "execution_count": 59,
   "id": "4a09e793",
   "metadata": {},
   "outputs": [
    {
     "data": {
      "text/html": [
       "<div>\n",
       "<style scoped>\n",
       "    .dataframe tbody tr th:only-of-type {\n",
       "        vertical-align: middle;\n",
       "    }\n",
       "\n",
       "    .dataframe tbody tr th {\n",
       "        vertical-align: top;\n",
       "    }\n",
       "\n",
       "    .dataframe thead th {\n",
       "        text-align: right;\n",
       "    }\n",
       "</style>\n",
       "<table border=\"1\" class=\"dataframe\">\n",
       "  <thead>\n",
       "    <tr style=\"text-align: right;\">\n",
       "      <th></th>\n",
       "      <th>Processor</th>\n",
       "      <th>Ram</th>\n",
       "      <th>Display</th>\n",
       "      <th>Features</th>\n",
       "    </tr>\n",
       "  </thead>\n",
       "  <tbody>\n",
       "    <tr>\n",
       "      <th>0</th>\n",
       "      <td>Apple M3 chip with 8‑core CPU, 10‑core GPU, 16...</td>\n",
       "      <td>8GB Unified Memory, Storage: 256GB SSD\\r</td>\n",
       "      <td>15.3-inch Liquid Retina display (2560x1664) wi...</td>\n",
       "      <td>Backlit Magic Keyboard with Touch ID</td>\n",
       "    </tr>\n",
       "    <tr>\n",
       "      <th>1</th>\n",
       "      <td>Intel Celeron N4020 (4M Cache, 1.10 GHz up to ...</td>\n",
       "      <td>8GB DDR4, Storage: 256GB M.2 2242 PCIe 4.0x4 S...</td>\n",
       "      <td>15.6\" FHD (1920x1080) TN 220nits Anti-glare\\r</td>\n",
       "      <td>Type-C, Privacy Shutter, Stereo speakers, Wi-Fi 6</td>\n",
       "    </tr>\n",
       "    <tr>\n",
       "      <th>2</th>\n",
       "      <td>Snapdragon X Plus X1P-42-100 (30MB Cache, Max ...</td>\n",
       "      <td>16GB LPDDR5x-8448, Storage: 1TB M.2 2242 PCIe ...</td>\n",
       "      <td>14\" WUXGA (1920x1200) OLED 400nits Glossy, Tou...</td>\n",
       "      <td>ingerprint, Backlit Keyboard, Privacy Shutter,...</td>\n",
       "    </tr>\n",
       "    <tr>\n",
       "      <th>3</th>\n",
       "      <td>Apple M4 chip with 12-core CPU, 16-core GPU, 1...</td>\n",
       "      <td>24GB, Storage: 512GB SSD\\r</td>\n",
       "      <td>14.2\" Liquid Retina XDR display (3024x1964)\\r</td>\n",
       "      <td>Backlit Magic Keyboard, Touch ID, Wi-Fi 6E, Bl...</td>\n",
       "    </tr>\n",
       "    <tr>\n",
       "      <th>4</th>\n",
       "      <td>Snapdragon X Plus X1P-42-100 (30MB Cache, Max ...</td>\n",
       "      <td>16GB LPDDR5x-8448, Storage: 512GB M.2 2242 PCI...</td>\n",
       "      <td>14\" WUXGA (1920x1200) OLED 400nits Glossy, 100...</td>\n",
       "      <td>ingerprint, Backlit Keyboard, Privacy Shutter,...</td>\n",
       "    </tr>\n",
       "    <tr>\n",
       "      <th>...</th>\n",
       "      <td>...</td>\n",
       "      <td>...</td>\n",
       "      <td>...</td>\n",
       "      <td>...</td>\n",
       "    </tr>\n",
       "    <tr>\n",
       "      <th>195</th>\n",
       "      <td>AMD Ryzen 7 7730U (8C/16T, 16MB cache, up to 4...</td>\n",
       "      <td>16GB DDR4 3200Mhz, Storage: 512GB NVMe SSD\\r</td>\n",
       "      <td>15.6\" FHD (1920x1080)  IPS Level Display\\r</td>\n",
       "      <td>Backlit Keyboard, Type-C</td>\n",
       "    </tr>\n",
       "    <tr>\n",
       "      <th>196</th>\n",
       "      <td>Intel Core i5-1335U (10C, Up to 4.6GHZ, 12MB C...</td>\n",
       "      <td>8GB DDR5, Storage: 512GB Gen4 SSD\\r</td>\n",
       "      <td>15.6\", FHD (1920 x 1080) 16:9, Anti-glare disp...</td>\n",
       "      <td>Wi-Fi 6, Military Grad</td>\n",
       "    </tr>\n",
       "    <tr>\n",
       "      <th>197</th>\n",
       "      <td>Intel Core i7-1165G7 (2.8- 4.7GHZ, 12MB )\\r</td>\n",
       "      <td>16GB DDR4, Storage: 512GB SSD\\r</td>\n",
       "      <td>15.6\" FHD (1920 x 1080)\\r</td>\n",
       "      <td>Camera Privacy Shutter, Stereo Speak</td>\n",
       "    </tr>\n",
       "    <tr>\n",
       "      <th>198</th>\n",
       "      <td>Intel Core i5-1335U (10C, Up to 4.6GHZ, 12MB C...</td>\n",
       "      <td>8GB DDR5, Storage: 512GB Gen4 SSD\\r</td>\n",
       "      <td>14\", FHD (1920 x 1080) 16:9, Anti-glare display\\r</td>\n",
       "      <td>Wi-Fi 6, Military Grad</td>\n",
       "    </tr>\n",
       "    <tr>\n",
       "      <th>199</th>\n",
       "      <td>Intel Core i5-1235U (12M Cache, 3.3GHz, Up to ...</td>\n",
       "      <td>8GB DDR4, Storage: 512GB SSD\\r</td>\n",
       "      <td>15.6\" FHD TN (1920 x 1080) 250 nits\\r</td>\n",
       "      <td>Backlit Keyboard, Type-C</td>\n",
       "    </tr>\n",
       "  </tbody>\n",
       "</table>\n",
       "<p>200 rows × 4 columns</p>\n",
       "</div>"
      ],
      "text/plain": [
       "                                             Processor  \\\n",
       "0    Apple M3 chip with 8‑core CPU, 10‑core GPU, 16...   \n",
       "1    Intel Celeron N4020 (4M Cache, 1.10 GHz up to ...   \n",
       "2    Snapdragon X Plus X1P-42-100 (30MB Cache, Max ...   \n",
       "3    Apple M4 chip with 12-core CPU, 16-core GPU, 1...   \n",
       "4    Snapdragon X Plus X1P-42-100 (30MB Cache, Max ...   \n",
       "..                                                 ...   \n",
       "195  AMD Ryzen 7 7730U (8C/16T, 16MB cache, up to 4...   \n",
       "196  Intel Core i5-1335U (10C, Up to 4.6GHZ, 12MB C...   \n",
       "197        Intel Core i7-1165G7 (2.8- 4.7GHZ, 12MB )\\r   \n",
       "198  Intel Core i5-1335U (10C, Up to 4.6GHZ, 12MB C...   \n",
       "199  Intel Core i5-1235U (12M Cache, 3.3GHz, Up to ...   \n",
       "\n",
       "                                                   Ram  \\\n",
       "0             8GB Unified Memory, Storage: 256GB SSD\\r   \n",
       "1    8GB DDR4, Storage: 256GB M.2 2242 PCIe 4.0x4 S...   \n",
       "2    16GB LPDDR5x-8448, Storage: 1TB M.2 2242 PCIe ...   \n",
       "3                           24GB, Storage: 512GB SSD\\r   \n",
       "4    16GB LPDDR5x-8448, Storage: 512GB M.2 2242 PCI...   \n",
       "..                                                 ...   \n",
       "195       16GB DDR4 3200Mhz, Storage: 512GB NVMe SSD\\r   \n",
       "196                8GB DDR5, Storage: 512GB Gen4 SSD\\r   \n",
       "197                    16GB DDR4, Storage: 512GB SSD\\r   \n",
       "198                8GB DDR5, Storage: 512GB Gen4 SSD\\r   \n",
       "199                     8GB DDR4, Storage: 512GB SSD\\r   \n",
       "\n",
       "                                               Display  \\\n",
       "0    15.3-inch Liquid Retina display (2560x1664) wi...   \n",
       "1        15.6\" FHD (1920x1080) TN 220nits Anti-glare\\r   \n",
       "2    14\" WUXGA (1920x1200) OLED 400nits Glossy, Tou...   \n",
       "3        14.2\" Liquid Retina XDR display (3024x1964)\\r   \n",
       "4    14\" WUXGA (1920x1200) OLED 400nits Glossy, 100...   \n",
       "..                                                 ...   \n",
       "195         15.6\" FHD (1920x1080)  IPS Level Display\\r   \n",
       "196  15.6\", FHD (1920 x 1080) 16:9, Anti-glare disp...   \n",
       "197                          15.6\" FHD (1920 x 1080)\\r   \n",
       "198  14\", FHD (1920 x 1080) 16:9, Anti-glare display\\r   \n",
       "199              15.6\" FHD TN (1920 x 1080) 250 nits\\r   \n",
       "\n",
       "                                              Features  \n",
       "0                 Backlit Magic Keyboard with Touch ID  \n",
       "1    Type-C, Privacy Shutter, Stereo speakers, Wi-Fi 6  \n",
       "2    ingerprint, Backlit Keyboard, Privacy Shutter,...  \n",
       "3    Backlit Magic Keyboard, Touch ID, Wi-Fi 6E, Bl...  \n",
       "4    ingerprint, Backlit Keyboard, Privacy Shutter,...  \n",
       "..                                                 ...  \n",
       "195                           Backlit Keyboard, Type-C  \n",
       "196                             Wi-Fi 6, Military Grad  \n",
       "197               Camera Privacy Shutter, Stereo Speak  \n",
       "198                             Wi-Fi 6, Military Grad  \n",
       "199                           Backlit Keyboard, Type-C  \n",
       "\n",
       "[200 rows x 4 columns]"
      ]
     },
     "execution_count": 59,
     "metadata": {},
     "output_type": "execute_result"
    }
   ],
   "source": [
    "import pandas as pd\n",
    "\n",
    "df = pd.read_csv(\"C:/Musfique's Folder/Python/Data-Wrangling/Mid/tech_land.csv\")\n",
    "df"
   ]
  },
  {
   "cell_type": "code",
   "execution_count": 70,
   "id": "12178f04",
   "metadata": {},
   "outputs": [
    {
     "name": "stdout",
     "output_type": "stream",
     "text": [
      "[<h5 class=\"card-title\">Python for beginners</h5>, <h5 class=\"card-title\">Python Web Development</h5>, <h5 class=\"card-title\">Python Machine Learning</h5>]\n",
      "Python for beginners\n",
      "Python Web Development\n",
      "Python Machine Learning\n"
     ]
    }
   ],
   "source": [
    "from bs4 import BeautifulSoup\n",
    "\n",
    "html_file = open('home.html', 'r')\n",
    "content = html_file.read()\n",
    "# print(content)\n",
    "\n",
    "soup = BeautifulSoup(content, \"lxml\")\n",
    "# print(soup)\n",
    "\n",
    "tags = soup.find_all(\"h5\")\n",
    "# tags = soup.find(\"h5\")\n",
    "\n",
    "print(tags)\n",
    "\n",
    "for tag in tags:\n",
    "    print(tag.text) # .text = .get_text() "
   ]
  },
  {
   "cell_type": "code",
   "execution_count": 74,
   "id": "e3358ede",
   "metadata": {},
   "outputs": [
    {
     "name": "stdout",
     "output_type": "stream",
     "text": [
      "[<h5 class=\"card-title\">Python for beginners</h5>, <h5 class=\"card-title\">Python Web Development</h5>, <h5 class=\"card-title\">Python Machine Learning</h5>] [<a class=\"btn btn-primary\" href=\"#\">Start for 20$</a>, <a class=\"btn btn-primary\" href=\"#\">Start for 50$</a>, <a class=\"btn btn-primary\" href=\"#\">Start for 100$</a>]\n",
      "{'Courses': ['Python for beginners', 'Python Web Development', 'Python Machine Learning'], 'Prices': ['Start for 20$', 'Start for 50$', 'Start for 100$']}\n"
     ]
    }
   ],
   "source": [
    "from bs4 import BeautifulSoup\n",
    "\n",
    "html_file = open(\"home.html\", \"r\")\n",
    "content = html_file.read()\n",
    "\n",
    "soup= BeautifulSoup(content, \"lxml\")\n",
    "\n",
    "data = {\n",
    "    \"Courses\": [],\n",
    "    \"Prices\":[]\n",
    "        }\n",
    "\n",
    "courses = soup.find_all(\"h5\")\n",
    "prices = soup.find_all(\"a\")\n",
    "\n",
    "print(courses,prices)\n",
    "\n",
    "for i in range(len(courses)): #0,1,2 len=3\n",
    "    data[\"Courses\"].append(courses[i].text)\n",
    "    data[\"Prices\"].append(prices[i].text)\n",
    "\n",
    "print(data)"
   ]
  },
  {
   "cell_type": "code",
   "execution_count": null,
   "id": "6b09066e",
   "metadata": {},
   "outputs": [],
   "source": [
    "import requests\n",
    "import pandas as pd\n",
    "\n",
    "url = \"https://api.example.com/products/popular\"\n",
    "\n",
    "response = requests.get(url)\n",
    "data = response.json()\n",
    "\n",
    "# Ans no 1\n",
    "print(data[\"products\"]) \n",
    "\n",
    "# ans no 2\n",
    "prods = data[\"products\"]\n",
    "\n",
    "for prod in prods: \n",
    "    print(f\"Name: {prod[\"name\"]} \\n\\t Category: {prod[\"category\"]}  \\n\\t Price: {prod[\"price\"]}\")\n",
    "\n",
    "\n",
    "# Ans no 3\n",
    "new_data = {\"Name\": [],\n",
    "            \"Category\": [],\n",
    "            \"Ratings\": []}\n",
    "\n",
    "for prod in prods:\n",
    "    new_data[\"Name\"].append(prod[\"name\"])\n",
    "    new_data[\"Category\"].append(prod[\"category\"])\n",
    "    new_data[\"Ratings\"].append(prod[\"rating\"])\n",
    "\n",
    "df = pd.DataFrame(new_data)\n",
    "df.to_csv(\"popular_products.csv\", index=False)"
   ]
  },
  {
   "cell_type": "code",
   "execution_count": 80,
   "id": "5e0b8c8d",
   "metadata": {},
   "outputs": [
    {
     "name": "stdout",
     "output_type": "stream",
     "text": [
      "[{'name': 'Wireless Headphones', 'category': 'Electronics', 'price': 120.99, 'rating': 4.5}, {'name': 'Smartphone', 'category': 'Electronics', 'price': 799.99, 'rating': 4.7}]\n",
      "Name: Wireless Headphones \n",
      "\t Category: Electronics  \n",
      "\t Price: 120.99\n",
      "Name: Smartphone \n",
      "\t Category: Electronics  \n",
      "\t Price: 799.99\n"
     ]
    }
   ],
   "source": [
    "data = {\n",
    "    \"products\": [\n",
    "        {\n",
    "            \"name\": \"Wireless Headphones\",\n",
    "            \"category\": \"Electronics\",\n",
    "            \"price\": 120.99,\n",
    "            \"rating\": 4.5\n",
    "        },\n",
    "        {\n",
    "            \"name\": \"Smartphone\",\n",
    "            \"category\": \"Electronics\",\n",
    "            \"price\": 799.99,\n",
    "            \"rating\": 4.7\n",
    "        }\n",
    "    ]\n",
    "}\n",
    "\n",
    "print(data[\"products\"])\n",
    "prods = data[\"products\"]\n",
    "\n",
    "for prod in prods:\n",
    "    print(f\"Name: {prod[\"name\"]} \\n\\t Category: {prod[\"category\"]}  \\n\\t Price: {prod[\"price\"]}\")"
   ]
  },
  {
   "cell_type": "code",
   "execution_count": 85,
   "id": "9a5c0201",
   "metadata": {},
   "outputs": [
    {
     "name": "stdout",
     "output_type": "stream",
     "text": [
      "[{'name': 'Wireless Headphones', 'category': 'Electronics', 'price': 120.99, 'rating': 4.5}, {'name': 'Smartphone', 'category': 'Electronics', 'price': 799.99, 'rating': 4.7}]\n",
      "{'Name': ['Wireless Headphones', 'Smartphone'], 'Category': ['Electronics', 'Electronics'], 'Ratings': [4.5, 4.7]}\n"
     ]
    },
    {
     "data": {
      "text/html": [
       "<div>\n",
       "<style scoped>\n",
       "    .dataframe tbody tr th:only-of-type {\n",
       "        vertical-align: middle;\n",
       "    }\n",
       "\n",
       "    .dataframe tbody tr th {\n",
       "        vertical-align: top;\n",
       "    }\n",
       "\n",
       "    .dataframe thead th {\n",
       "        text-align: right;\n",
       "    }\n",
       "</style>\n",
       "<table border=\"1\" class=\"dataframe\">\n",
       "  <thead>\n",
       "    <tr style=\"text-align: right;\">\n",
       "      <th></th>\n",
       "      <th>Name</th>\n",
       "      <th>Category</th>\n",
       "      <th>Ratings</th>\n",
       "    </tr>\n",
       "  </thead>\n",
       "  <tbody>\n",
       "    <tr>\n",
       "      <th>0</th>\n",
       "      <td>Wireless Headphones</td>\n",
       "      <td>Electronics</td>\n",
       "      <td>4.5</td>\n",
       "    </tr>\n",
       "    <tr>\n",
       "      <th>1</th>\n",
       "      <td>Smartphone</td>\n",
       "      <td>Electronics</td>\n",
       "      <td>4.7</td>\n",
       "    </tr>\n",
       "  </tbody>\n",
       "</table>\n",
       "</div>"
      ],
      "text/plain": [
       "                  Name     Category  Ratings\n",
       "0  Wireless Headphones  Electronics      4.5\n",
       "1           Smartphone  Electronics      4.7"
      ]
     },
     "execution_count": 85,
     "metadata": {},
     "output_type": "execute_result"
    }
   ],
   "source": [
    "import pandas as pd\n",
    "data = {\n",
    "    \"products\": [\n",
    "        {\n",
    "            \"name\": \"Wireless Headphones\",\n",
    "            \"category\": \"Electronics\",\n",
    "            \"price\": 120.99,\n",
    "            \"rating\": 4.5\n",
    "        },\n",
    "        {\n",
    "            \"name\": \"Smartphone\",\n",
    "            \"category\": \"Electronics\",\n",
    "            \"price\": 799.99,\n",
    "            \"rating\": 4.7\n",
    "        }\n",
    "    ]\n",
    "}\n",
    "\n",
    "print(data[\"products\"])\n",
    "prods = data[\"products\"]\n",
    "\n",
    "new_data = {\"Name\": [],\n",
    "            \"Category\": [],\n",
    "            \"Ratings\": []}\n",
    "\n",
    "for prod in prods:\n",
    "    new_data[\"Name\"].append(prod[\"name\"])\n",
    "    new_data[\"Category\"].append(prod[\"category\"])\n",
    "    new_data[\"Ratings\"].append(prod[\"rating\"])\n",
    "\n",
    "print(new_data)\n",
    "\n",
    "df = pd.DataFrame(new_data)\n",
    "df.to_csv(\"C:/Musfique's Folder/Python/Data-Wrangling/Mid/popular_products.csv\", index=False)\n",
    "\n",
    "df"
   ]
  },
  {
   "cell_type": "code",
   "execution_count": null,
   "id": "bcbfef62",
   "metadata": {},
   "outputs": [],
   "source": [
    "driver = \"https://storage.googleapis.com/chrome-for-testing-public/135.0.7049.95/win64/chromedriver-win64.zip\""
   ]
  },
  {
   "cell_type": "code",
   "execution_count": null,
   "id": "6c62f81a",
   "metadata": {},
   "outputs": [],
   "source": [
    "from selenium import webdriver\n",
    "from selenium.webdriver.chrome.service import Service\n",
    "from selenium.webdriver.common.by import By\n",
    "import time\n",
    "\n",
    "# ekhan theke mukhosto shuru\n",
    "website = 'https://elms.uiu.ac.bd/'\n",
    "path = \"chromedriver.exe\"\n",
    "\n",
    "service = Service(path)\n",
    "\n",
    "driver = webdriver.Chrome(service=service)\n",
    "driver.get(website)\n",
    "#\n",
    "\n",
    "login_button = driver.find_element(By.XPATH, '//*[@id=\"usernavigation\"]/div[2]/div/span/a')\n",
    "login_button.click()\n",
    "\n",
    "# username field a user name boshano\n",
    "username = driver.find_element(By.ID, \"username\")\n",
    "username.send_keys(\"015230101\")\n",
    "username.submit()\n",
    "\n",
    "# login button a click\n",
    "login_button_2 = driver.find_element(By.ID, \"loginbtn\")\n",
    "login_button_2.click()\n",
    "\n",
    "\n",
    "# mukhosto\n",
    "driver.quit()"
   ]
  },
  {
   "cell_type": "code",
   "execution_count": 88,
   "id": "acd205c4",
   "metadata": {},
   "outputs": [
    {
     "name": "stdout",
     "output_type": "stream",
     "text": [
      "0\n",
      "1\n",
      "2\n",
      "3\n",
      "4\n",
      "5\n",
      "6\n",
      "7\n",
      "8\n",
      "9\n"
     ]
    }
   ],
   "source": [
    "import time\n",
    "\n",
    "for i in range(10):\n",
    "    time.sleep(1)\n",
    "    print(i)"
   ]
  }
 ],
 "metadata": {
  "kernelspec": {
   "display_name": "Python 3",
   "language": "python",
   "name": "python3"
  },
  "language_info": {
   "codemirror_mode": {
    "name": "ipython",
    "version": 3
   },
   "file_extension": ".py",
   "mimetype": "text/x-python",
   "name": "python",
   "nbconvert_exporter": "python",
   "pygments_lexer": "ipython3",
   "version": "3.12.8"
  }
 },
 "nbformat": 4,
 "nbformat_minor": 5
}
