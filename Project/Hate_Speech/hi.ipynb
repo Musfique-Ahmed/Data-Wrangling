{
 "cells": [
  {
   "cell_type": "code",
   "execution_count": 2,
   "id": "2b8e3786",
   "metadata": {},
   "outputs": [],
   "source": [
    "import pandas as pd"
   ]
  },
  {
   "cell_type": "code",
   "execution_count": 3,
   "id": "8ce0dc2d",
   "metadata": {},
   "outputs": [
    {
     "data": {
      "text/html": [
       "<div>\n",
       "<style scoped>\n",
       "    .dataframe tbody tr th:only-of-type {\n",
       "        vertical-align: middle;\n",
       "    }\n",
       "\n",
       "    .dataframe tbody tr th {\n",
       "        vertical-align: top;\n",
       "    }\n",
       "\n",
       "    .dataframe thead th {\n",
       "        text-align: right;\n",
       "    }\n",
       "</style>\n",
       "<table border=\"1\" class=\"dataframe\">\n",
       "  <thead>\n",
       "    <tr style=\"text-align: right;\">\n",
       "      <th></th>\n",
       "      <th>Text</th>\n",
       "      <th>GPT</th>\n",
       "      <th>Gemini</th>\n",
       "      <th>Deepseek</th>\n",
       "      <th>p1_Reasoning</th>\n",
       "      <th>p2_Reasoning</th>\n",
       "      <th>p3_Reasoning</th>\n",
       "    </tr>\n",
       "  </thead>\n",
       "  <tbody>\n",
       "    <tr>\n",
       "      <th>0</th>\n",
       "      <td>public buijja geche tora sab bat-par</td>\n",
       "      <td>Social / Personal</td>\n",
       "      <td>NO</td>\n",
       "      <td>NO</td>\n",
       "      <td>NO</td>\n",
       "      <td>NO</td>\n",
       "      <td>Political</td>\n",
       "    </tr>\n",
       "    <tr>\n",
       "      <th>1</th>\n",
       "      <td>Vai page er malik tore samne paile ki j kortam.</td>\n",
       "      <td>Social / Personal</td>\n",
       "      <td>NO</td>\n",
       "      <td>NO</td>\n",
       "      <td>Social / Personal</td>\n",
       "      <td>Violence</td>\n",
       "      <td>Social / Personal</td>\n",
       "    </tr>\n",
       "    <tr>\n",
       "      <th>2</th>\n",
       "      <td>hijray ki bole dekh</td>\n",
       "      <td>Gender Abuse</td>\n",
       "      <td>Gender Abuse</td>\n",
       "      <td>Gender Abuse</td>\n",
       "      <td>Gender Abuse</td>\n",
       "      <td>Gender Abuse</td>\n",
       "      <td>Gender Abuse</td>\n",
       "    </tr>\n",
       "    <tr>\n",
       "      <th>3</th>\n",
       "      <td>awamiligara ture pun marche?</td>\n",
       "      <td>Political</td>\n",
       "      <td>Political</td>\n",
       "      <td>Political</td>\n",
       "      <td>Political</td>\n",
       "      <td>NO</td>\n",
       "      <td>Political</td>\n",
       "    </tr>\n",
       "    <tr>\n",
       "      <th>4</th>\n",
       "      <td>Ai buira mohila o nki Rape ar mamla dey, R Ban...</td>\n",
       "      <td>Gender Abuse</td>\n",
       "      <td>Gender Abuse</td>\n",
       "      <td>Gender Abuse</td>\n",
       "      <td>Racism</td>\n",
       "      <td>Social / Personal</td>\n",
       "      <td>Political</td>\n",
       "    </tr>\n",
       "    <tr>\n",
       "      <th>...</th>\n",
       "      <td>...</td>\n",
       "      <td>...</td>\n",
       "      <td>...</td>\n",
       "      <td>...</td>\n",
       "      <td>...</td>\n",
       "      <td>...</td>\n",
       "      <td>...</td>\n",
       "    </tr>\n",
       "    <tr>\n",
       "      <th>125</th>\n",
       "      <td>Bastobe oshob howa onek kothin.Tai byashabritt...</td>\n",
       "      <td>Gender Abuse</td>\n",
       "      <td>NO</td>\n",
       "      <td>Social / Personal</td>\n",
       "      <td>Gender Abuse</td>\n",
       "      <td>Gender Abuse</td>\n",
       "      <td>Social / Personal</td>\n",
       "    </tr>\n",
       "    <tr>\n",
       "      <th>126</th>\n",
       "      <td>Shabagi is shabagi.Pootki hoyto hoy but never ...</td>\n",
       "      <td>Political</td>\n",
       "      <td>Social / Personal</td>\n",
       "      <td>Social / Personal</td>\n",
       "      <td>Gender Abuse</td>\n",
       "      <td>Political</td>\n",
       "      <td>Gender Abuse</td>\n",
       "    </tr>\n",
       "    <tr>\n",
       "      <th>127</th>\n",
       "      <td>Erpor bier porer din dhorshon mamla khaile ter...</td>\n",
       "      <td>Gender Abuse</td>\n",
       "      <td>Gender Abuse</td>\n",
       "      <td>Gender Abuse</td>\n",
       "      <td>Gender Abuse</td>\n",
       "      <td>Gender Abuse</td>\n",
       "      <td>Just disgusting</td>\n",
       "    </tr>\n",
       "    <tr>\n",
       "      <th>128</th>\n",
       "      <td>Vai apnara je ere niya video banaisen tara to ...</td>\n",
       "      <td>Gender Abuse</td>\n",
       "      <td>NO</td>\n",
       "      <td>Gender Abuse</td>\n",
       "      <td>Gender Abuse</td>\n",
       "      <td>Social / Personal</td>\n",
       "      <td>Gender Abuse</td>\n",
       "    </tr>\n",
       "    <tr>\n",
       "      <th>129</th>\n",
       "      <td>Boin tui nekami koros? Ole le le le kichui buj...</td>\n",
       "      <td>Gender Abuse</td>\n",
       "      <td>NO</td>\n",
       "      <td>Gender Abuse</td>\n",
       "      <td>Social / Personal</td>\n",
       "      <td>Social / Personal</td>\n",
       "      <td>Gender Abuse</td>\n",
       "    </tr>\n",
       "  </tbody>\n",
       "</table>\n",
       "<p>130 rows × 7 columns</p>\n",
       "</div>"
      ],
      "text/plain": [
       "                                                  Text                GPT  \\\n",
       "0                 public buijja geche tora sab bat-par  Social / Personal   \n",
       "1      Vai page er malik tore samne paile ki j kortam.  Social / Personal   \n",
       "2                                  hijray ki bole dekh       Gender Abuse   \n",
       "3                         awamiligara ture pun marche?          Political   \n",
       "4    Ai buira mohila o nki Rape ar mamla dey, R Ban...       Gender Abuse   \n",
       "..                                                 ...                ...   \n",
       "125  Bastobe oshob howa onek kothin.Tai byashabritt...       Gender Abuse   \n",
       "126  Shabagi is shabagi.Pootki hoyto hoy but never ...          Political   \n",
       "127  Erpor bier porer din dhorshon mamla khaile ter...       Gender Abuse   \n",
       "128  Vai apnara je ere niya video banaisen tara to ...       Gender Abuse   \n",
       "129  Boin tui nekami koros? Ole le le le kichui buj...       Gender Abuse   \n",
       "\n",
       "                Gemini           Deepseek       p1_Reasoning  \\\n",
       "0                   NO                 NO                 NO   \n",
       "1                   NO                 NO  Social / Personal   \n",
       "2         Gender Abuse       Gender Abuse       Gender Abuse   \n",
       "3            Political          Political          Political   \n",
       "4         Gender Abuse       Gender Abuse             Racism   \n",
       "..                 ...                ...                ...   \n",
       "125                 NO  Social / Personal       Gender Abuse   \n",
       "126  Social / Personal  Social / Personal       Gender Abuse   \n",
       "127       Gender Abuse       Gender Abuse       Gender Abuse   \n",
       "128                 NO       Gender Abuse       Gender Abuse   \n",
       "129                 NO       Gender Abuse  Social / Personal   \n",
       "\n",
       "          p2_Reasoning       p3_Reasoning  \n",
       "0                   NO          Political  \n",
       "1             Violence  Social / Personal  \n",
       "2         Gender Abuse       Gender Abuse  \n",
       "3                   NO          Political  \n",
       "4    Social / Personal          Political  \n",
       "..                 ...                ...  \n",
       "125       Gender Abuse  Social / Personal  \n",
       "126          Political       Gender Abuse  \n",
       "127       Gender Abuse    Just disgusting  \n",
       "128  Social / Personal       Gender Abuse  \n",
       "129  Social / Personal       Gender Abuse  \n",
       "\n",
       "[130 rows x 7 columns]"
      ]
     },
     "execution_count": 3,
     "metadata": {},
     "output_type": "execute_result"
    }
   ],
   "source": [
    "data = pd.read_csv(\"cleaned_dataset.csv\")\n",
    "data"
   ]
  },
  {
   "cell_type": "code",
   "execution_count": 4,
   "id": "d694b73e",
   "metadata": {},
   "outputs": [
    {
     "data": {
      "text/plain": [
       "<bound method DataFrame.info of                                                   Text                GPT  \\\n",
       "0                 public buijja geche tora sab bat-par  Social / Personal   \n",
       "1      Vai page er malik tore samne paile ki j kortam.  Social / Personal   \n",
       "2                                  hijray ki bole dekh       Gender Abuse   \n",
       "3                         awamiligara ture pun marche?          Political   \n",
       "4    Ai buira mohila o nki Rape ar mamla dey, R Ban...       Gender Abuse   \n",
       "..                                                 ...                ...   \n",
       "125  Bastobe oshob howa onek kothin.Tai byashabritt...       Gender Abuse   \n",
       "126  Shabagi is shabagi.Pootki hoyto hoy but never ...          Political   \n",
       "127  Erpor bier porer din dhorshon mamla khaile ter...       Gender Abuse   \n",
       "128  Vai apnara je ere niya video banaisen tara to ...       Gender Abuse   \n",
       "129  Boin tui nekami koros? Ole le le le kichui buj...       Gender Abuse   \n",
       "\n",
       "                Gemini           Deepseek       p1_Reasoning  \\\n",
       "0                   NO                 NO                 NO   \n",
       "1                   NO                 NO  Social / Personal   \n",
       "2         Gender Abuse       Gender Abuse       Gender Abuse   \n",
       "3            Political          Political          Political   \n",
       "4         Gender Abuse       Gender Abuse             Racism   \n",
       "..                 ...                ...                ...   \n",
       "125                 NO  Social / Personal       Gender Abuse   \n",
       "126  Social / Personal  Social / Personal       Gender Abuse   \n",
       "127       Gender Abuse       Gender Abuse       Gender Abuse   \n",
       "128                 NO       Gender Abuse       Gender Abuse   \n",
       "129                 NO       Gender Abuse  Social / Personal   \n",
       "\n",
       "          p2_Reasoning       p3_Reasoning  \n",
       "0                   NO          Political  \n",
       "1             Violence  Social / Personal  \n",
       "2         Gender Abuse       Gender Abuse  \n",
       "3                   NO          Political  \n",
       "4    Social / Personal          Political  \n",
       "..                 ...                ...  \n",
       "125       Gender Abuse  Social / Personal  \n",
       "126          Political       Gender Abuse  \n",
       "127       Gender Abuse    Just disgusting  \n",
       "128  Social / Personal       Gender Abuse  \n",
       "129  Social / Personal       Gender Abuse  \n",
       "\n",
       "[130 rows x 7 columns]>"
      ]
     },
     "execution_count": 4,
     "metadata": {},
     "output_type": "execute_result"
    }
   ],
   "source": [
    "data.info"
   ]
  },
  {
   "cell_type": "code",
   "execution_count": 6,
   "id": "e33f6cfa",
   "metadata": {},
   "outputs": [
    {
     "data": {
      "text/html": [
       "<div>\n",
       "<style scoped>\n",
       "    .dataframe tbody tr th:only-of-type {\n",
       "        vertical-align: middle;\n",
       "    }\n",
       "\n",
       "    .dataframe tbody tr th {\n",
       "        vertical-align: top;\n",
       "    }\n",
       "\n",
       "    .dataframe thead th {\n",
       "        text-align: right;\n",
       "    }\n",
       "</style>\n",
       "<table border=\"1\" class=\"dataframe\">\n",
       "  <thead>\n",
       "    <tr style=\"text-align: right;\">\n",
       "      <th></th>\n",
       "      <th>Text</th>\n",
       "      <th>GPT</th>\n",
       "      <th>Gemini</th>\n",
       "      <th>Deepseek</th>\n",
       "      <th>p1_Reasoning</th>\n",
       "      <th>p2_Reasoning</th>\n",
       "      <th>p3_Reasoning</th>\n",
       "    </tr>\n",
       "  </thead>\n",
       "  <tbody>\n",
       "    <tr>\n",
       "      <th>count</th>\n",
       "      <td>130</td>\n",
       "      <td>130</td>\n",
       "      <td>130</td>\n",
       "      <td>130</td>\n",
       "      <td>130</td>\n",
       "      <td>130</td>\n",
       "      <td>130</td>\n",
       "    </tr>\n",
       "    <tr>\n",
       "      <th>unique</th>\n",
       "      <td>130</td>\n",
       "      <td>7</td>\n",
       "      <td>7</td>\n",
       "      <td>7</td>\n",
       "      <td>9</td>\n",
       "      <td>15</td>\n",
       "      <td>10</td>\n",
       "    </tr>\n",
       "    <tr>\n",
       "      <th>top</th>\n",
       "      <td>public buijja geche tora sab bat-par</td>\n",
       "      <td>Social / Personal</td>\n",
       "      <td>NO</td>\n",
       "      <td>NO</td>\n",
       "      <td>Social / Personal</td>\n",
       "      <td>Social / Personal</td>\n",
       "      <td>Social / Personal</td>\n",
       "    </tr>\n",
       "    <tr>\n",
       "      <th>freq</th>\n",
       "      <td>1</td>\n",
       "      <td>33</td>\n",
       "      <td>55</td>\n",
       "      <td>30</td>\n",
       "      <td>46</td>\n",
       "      <td>39</td>\n",
       "      <td>48</td>\n",
       "    </tr>\n",
       "  </tbody>\n",
       "</table>\n",
       "</div>"
      ],
      "text/plain": [
       "                                        Text                GPT Gemini  \\\n",
       "count                                    130                130    130   \n",
       "unique                                   130                  7      7   \n",
       "top     public buijja geche tora sab bat-par  Social / Personal     NO   \n",
       "freq                                       1                 33     55   \n",
       "\n",
       "       Deepseek       p1_Reasoning       p2_Reasoning       p3_Reasoning  \n",
       "count       130                130                130                130  \n",
       "unique        7                  9                 15                 10  \n",
       "top          NO  Social / Personal  Social / Personal  Social / Personal  \n",
       "freq         30                 46                 39                 48  "
      ]
     },
     "execution_count": 6,
     "metadata": {},
     "output_type": "execute_result"
    }
   ],
   "source": [
    "data.describe()"
   ]
  },
  {
   "cell_type": "code",
   "execution_count": 18,
   "id": "23a42e65",
   "metadata": {},
   "outputs": [
    {
     "data": {
      "text/plain": [
       "array(['Social / Personal', 'Gender Abuse', 'Political', 'NO',\n",
       "       'Geopolitical', 'Racism', 'Religious'], dtype=object)"
      ]
     },
     "execution_count": 18,
     "metadata": {},
     "output_type": "execute_result"
    }
   ],
   "source": [
    "data[\"GPT\"].unique()"
   ]
  },
  {
   "cell_type": "code",
   "execution_count": 23,
   "id": "9220939a",
   "metadata": {},
   "outputs": [
    {
     "data": {
      "text/plain": [
       "GPT\n",
       "Social / Personal    33\n",
       "Political            29\n",
       "NO                   28\n",
       "Gender Abuse         18\n",
       "Religious            13\n",
       "Geopolitical          7\n",
       "Racism                2\n",
       "Name: count, dtype: int64"
      ]
     },
     "execution_count": 23,
     "metadata": {},
     "output_type": "execute_result"
    }
   ],
   "source": [
    "data[\"GPT\"].value_counts()"
   ]
  },
  {
   "cell_type": "code",
   "execution_count": 12,
   "id": "3eaa29f3",
   "metadata": {},
   "outputs": [
    {
     "data": {
      "text/plain": [
       "array(['NO', 'Social / Personal', 'Gender Abuse', 'Political', 'Racism',\n",
       "       'Geopolitical', 'Religious', 'For using slang',\n",
       "       'Idk what it means'], dtype=object)"
      ]
     },
     "execution_count": 12,
     "metadata": {},
     "output_type": "execute_result"
    }
   ],
   "source": [
    "data[\"p1_Reasoning\"].unique()"
   ]
  },
  {
   "cell_type": "code",
   "execution_count": 26,
   "id": "ef04b4fc",
   "metadata": {},
   "outputs": [
    {
     "data": {
      "text/plain": [
       "p1_Reasoning\n",
       "Social / Personal    46\n",
       "NO                   22\n",
       "Political            19\n",
       "Gender Abuse         14\n",
       "Racism               10\n",
       "Religious             9\n",
       "Geopolitical          7\n",
       "Idk what it means     2\n",
       "For using slang       1\n",
       "Name: count, dtype: int64"
      ]
     },
     "execution_count": 26,
     "metadata": {},
     "output_type": "execute_result"
    }
   ],
   "source": [
    "data[\"p1_Reasoning\"].value_counts()"
   ]
  },
  {
   "cell_type": "code",
   "execution_count": 13,
   "id": "f17f4b61",
   "metadata": {},
   "outputs": [
    {
     "data": {
      "text/plain": [
       "array(['NO', 'Violence', 'Gender Abuse', 'Social / Personal', 'Political',\n",
       "       'Slang', 'Geopolitical', 'Sexual', 'Religious', 'Generally bolse',\n",
       "       'Racism', 'bad language', 'humiliate', 'What that does even mean?',\n",
       "       'violence'], dtype=object)"
      ]
     },
     "execution_count": 13,
     "metadata": {},
     "output_type": "execute_result"
    }
   ],
   "source": [
    "data[\"p2_Reasoning\"].unique()"
   ]
  },
  {
   "cell_type": "code",
   "execution_count": 24,
   "id": "7c15a2ce",
   "metadata": {},
   "outputs": [
    {
     "data": {
      "text/plain": [
       "p2_Reasoning\n",
       "Social / Personal            39\n",
       "NO                           24\n",
       "Political                    22\n",
       "Religious                    11\n",
       "Gender Abuse                  9\n",
       "Racism                        9\n",
       "Geopolitical                  6\n",
       "Sexual                        2\n",
       "Slang                         2\n",
       "Violence                      1\n",
       "Generally bolse               1\n",
       "bad language                  1\n",
       "humiliate                     1\n",
       "What that does even mean?     1\n",
       "violence                      1\n",
       "Name: count, dtype: int64"
      ]
     },
     "execution_count": 24,
     "metadata": {},
     "output_type": "execute_result"
    }
   ],
   "source": [
    "data[\"p2_Reasoning\"].value_counts()"
   ]
  },
  {
   "cell_type": "code",
   "execution_count": 14,
   "id": "43f740a8",
   "metadata": {},
   "outputs": [
    {
     "data": {
      "text/plain": [
       "array(['Political', 'Social / Personal', 'Gender Abuse', 'NO',\n",
       "       'Geopolitical', 'Racism', 'Religious',\n",
       "       \"It is a hate speech if it's about disrespecting someone's opinion..but like if someone says something that is kind of bullying or mocking the other person..then that's just a way of saying you're wrong\",\n",
       "       'Clearly its a criticism, the speech is like the targeted peoples are somehow less deserving of respect',\n",
       "       'Just disgusting'], dtype=object)"
      ]
     },
     "execution_count": 14,
     "metadata": {},
     "output_type": "execute_result"
    }
   ],
   "source": [
    "data[\"p3_Reasoning\"].unique()"
   ]
  },
  {
   "cell_type": "code",
   "execution_count": 25,
   "id": "17f14608",
   "metadata": {},
   "outputs": [
    {
     "data": {
      "text/plain": [
       "p3_Reasoning\n",
       "Social / Personal                                                                                                                                                                                            48\n",
       "NO                                                                                                                                                                                                           23\n",
       "Political                                                                                                                                                                                                    22\n",
       "Gender Abuse                                                                                                                                                                                                 14\n",
       "Religious                                                                                                                                                                                                    11\n",
       "Racism                                                                                                                                                                                                        5\n",
       "Geopolitical                                                                                                                                                                                                  4\n",
       "It is a hate speech if it's about disrespecting someone's opinion..but like if someone says something that is kind of bullying or mocking the other person..then that's just a way of saying you're wrong     1\n",
       "Clearly its a criticism, the speech is like the targeted peoples are somehow less deserving of respect                                                                                                        1\n",
       "Just disgusting                                                                                                                                                                                               1\n",
       "Name: count, dtype: int64"
      ]
     },
     "execution_count": 25,
     "metadata": {},
     "output_type": "execute_result"
    }
   ],
   "source": [
    "data[\"p3_Reasoning\"].value_counts()"
   ]
  },
  {
   "cell_type": "code",
   "execution_count": 15,
   "id": "7e207c20",
   "metadata": {},
   "outputs": [
    {
     "data": {
      "text/html": [
       "<div>\n",
       "<style scoped>\n",
       "    .dataframe tbody tr th:only-of-type {\n",
       "        vertical-align: middle;\n",
       "    }\n",
       "\n",
       "    .dataframe tbody tr th {\n",
       "        vertical-align: top;\n",
       "    }\n",
       "\n",
       "    .dataframe thead th {\n",
       "        text-align: right;\n",
       "    }\n",
       "</style>\n",
       "<table border=\"1\" class=\"dataframe\">\n",
       "  <thead>\n",
       "    <tr style=\"text-align: right;\">\n",
       "      <th></th>\n",
       "      <th>Text</th>\n",
       "      <th>GPT</th>\n",
       "      <th>Gemini</th>\n",
       "      <th>Deepseek</th>\n",
       "      <th>p1_Reasoning</th>\n",
       "      <th>p2_Reasoning</th>\n",
       "      <th>p3_Reasoning</th>\n",
       "    </tr>\n",
       "  </thead>\n",
       "  <tbody>\n",
       "    <tr>\n",
       "      <th>45</th>\n",
       "      <td>Tor heda</td>\n",
       "      <td>NO</td>\n",
       "      <td>Social / Personal</td>\n",
       "      <td>NO</td>\n",
       "      <td>Social / Personal</td>\n",
       "      <td>Social / Personal</td>\n",
       "      <td>It is a hate speech if it's about disrespectin...</td>\n",
       "    </tr>\n",
       "  </tbody>\n",
       "</table>\n",
       "</div>"
      ],
      "text/plain": [
       "        Text GPT             Gemini Deepseek       p1_Reasoning  \\\n",
       "45  Tor heda  NO  Social / Personal       NO  Social / Personal   \n",
       "\n",
       "         p2_Reasoning                                       p3_Reasoning  \n",
       "45  Social / Personal  It is a hate speech if it's about disrespectin...  "
      ]
     },
     "execution_count": 15,
     "metadata": {},
     "output_type": "execute_result"
    }
   ],
   "source": [
    "data[data['p3_Reasoning'] == \"It is a hate speech if it's about disrespecting someone's opinion..but like if someone says something that is kind of bullying or mocking the other person..then that's just a way of saying you're wrong\"]"
   ]
  }
 ],
 "metadata": {
  "kernelspec": {
   "display_name": "Python 3",
   "language": "python",
   "name": "python3"
  },
  "language_info": {
   "codemirror_mode": {
    "name": "ipython",
    "version": 3
   },
   "file_extension": ".py",
   "mimetype": "text/x-python",
   "name": "python",
   "nbconvert_exporter": "python",
   "pygments_lexer": "ipython3",
   "version": "3.13.5"
  }
 },
 "nbformat": 4,
 "nbformat_minor": 5
}
